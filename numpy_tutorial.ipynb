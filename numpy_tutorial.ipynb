{
 "cells": [
  {
   "attachments": {},
   "cell_type": "markdown",
   "metadata": {},
   "source": [
    "# Numpy-Array Tutorial\n",
    "\n",
    "Importiere Numpy. Achtung: Muss vorher mit `pip install numpy` installiert werden."
   ]
  },
  {
   "attachments": {},
   "cell_type": "markdown",
   "metadata": {},
   "source": [
    "**A1:** Wandle die Liste `li` unten in ein Numpy-Array um und bestimme seine Dimension / Form."
   ]
  },
  {
   "cell_type": "code",
   "execution_count": 4,
   "metadata": {},
   "outputs": [],
   "source": [
    "li = [[3,2,1,5,2,4,2],[7,5,6,4,1,3,4],[0,3,4,6,8,8,5]]"
   ]
  },
  {
   "cell_type": "code",
   "execution_count": null,
   "metadata": {},
   "outputs": [],
   "source": [
    "%pip install numpy matplotlib scikit-image\n",
    "import numpy as np\n"
   ]
  },
  {
   "cell_type": "code",
   "execution_count": 20,
   "metadata": {},
   "outputs": [
    {
     "data": {
      "text/plain": [
       "(3, 7)"
      ]
     },
     "execution_count": 20,
     "metadata": {},
     "output_type": "execute_result"
    }
   ],
   "source": [
    "np.array(li).shape"
   ]
  },
  {
   "attachments": {},
   "cell_type": "markdown",
   "metadata": {},
   "source": [
    "**A2:** Erstelle mit einem einzigen Befehl ein Numpy-Array `zeros`, welches die Form (5,7) hat und mit lauter Nullen gefüllt ist. Die Nullen sollen ganze Zahlen, also Integers, sein."
   ]
  },
  {
   "cell_type": "code",
   "execution_count": 7,
   "metadata": {},
   "outputs": [
    {
     "data": {
      "text/plain": [
       "array([[0, 0, 0, 0, 0, 0, 0],\n",
       "       [0, 0, 0, 0, 0, 0, 0],\n",
       "       [0, 0, 0, 0, 0, 0, 0],\n",
       "       [0, 0, 0, 0, 0, 0, 0],\n",
       "       [0, 0, 0, 0, 0, 0, 0]])"
      ]
     },
     "execution_count": 7,
     "metadata": {},
     "output_type": "execute_result"
    }
   ],
   "source": [
    "np.zeros((5,7), dtype=int)"
   ]
  },
  {
   "attachments": {},
   "cell_type": "markdown",
   "metadata": {},
   "source": [
    "**A3:** Erstelle mit einem einzigen Befehl ein Numpy-Array `rand_arr`, welches die Form (5,7) hat und mit lauter Zufallszahlen von $0$ bis $9$ gefüllt ist."
   ]
  },
  {
   "cell_type": "code",
   "execution_count": 13,
   "metadata": {},
   "outputs": [
    {
     "data": {
      "text/plain": [
       "array([[4, 4, 8, 0, 5, 8, 8],\n",
       "       [3, 1, 0, 6, 1, 7, 4],\n",
       "       [4, 8, 4, 8, 1, 7, 0],\n",
       "       [3, 8, 1, 1, 8, 1, 6],\n",
       "       [7, 3, 4, 6, 2, 1, 5]])"
      ]
     },
     "execution_count": 13,
     "metadata": {},
     "output_type": "execute_result"
    }
   ],
   "source": [
    "np.random.randint(0, 9, (5, 7))"
   ]
  },
  {
   "attachments": {},
   "cell_type": "markdown",
   "metadata": {},
   "source": [
    "**A4:** Erstelle mithilfe zweier verschachtelter Schleifen jedes Element des Arrays unten durch. Überprüfe, ob das Element negativ ist. Falls ja, setzte es auf $0$. Positive Zahlen bleiben unverändert."
   ]
  },
  {
   "cell_type": "code",
   "execution_count": null,
   "metadata": {},
   "outputs": [
    {
     "data": {
      "text/plain": [
       "array([3.        , 3.22222222, 3.44444444, 3.66666667, 3.88888889,\n",
       "       4.11111111, 4.33333333, 4.55555556, 4.77777778, 5.        ])"
      ]
     },
     "execution_count": 18,
     "metadata": {},
     "output_type": "execute_result"
    }
   ],
   "source": [
    "arr = np.array([[-1,  7,  0, -7, -3,  0,  3],\n",
    " [-9, -2,  5, -5, -4, -7,  3],\n",
    " [ 3, -7, 10, -8,  2,  0,  4],\n",
    " [ 9, -9,  4,  8,  3, -4,  0],\n",
    " [-2, -8,  3, -3, -5, -1,  5]])\n",
    "\n"
   ]
  },
  {
   "cell_type": "code",
   "execution_count": 16,
   "metadata": {},
   "outputs": [
    {
     "data": {
      "text/plain": [
       "array([[ 0,  7,  0,  0,  0,  0,  3],\n",
       "       [ 0,  0,  5,  0,  0,  0,  3],\n",
       "       [ 3,  0, 10,  0,  2,  0,  4],\n",
       "       [ 9,  0,  4,  8,  3,  0,  0],\n",
       "       [ 0,  0,  3,  0,  0,  0,  5]])"
      ]
     },
     "execution_count": 16,
     "metadata": {},
     "output_type": "execute_result"
    }
   ],
   "source": [
    "for row in range(arr.shape[0]):\n",
    "    for col in range(arr.shape[1]):\n",
    "        if arr[row, col] <0:\n",
    "            arr[row, col] = 0\n",
    "arr"
   ]
  },
  {
   "attachments": {},
   "cell_type": "markdown",
   "metadata": {},
   "source": [
    "## Spielwiese\n",
    "\n",
    "Probiere hier unten verschiedene Dinge aus zu **Numpy-Array** und **Markdown**."
   ]
  },
  {
   "attachments": {},
   "cell_type": "markdown",
   "metadata": {},
   "source": []
  },
  {
   "cell_type": "code",
   "execution_count": null,
   "metadata": {},
   "outputs": [],
   "source": [
    "def display(pixels):\n",
    "    import numpy as np\n",
    "    from skimage import io # to read image\n",
    "    import matplotlib.pyplot as plt # to show (and save) image\n",
    "    import copy\n",
    "    plt.axis('off')  # Turn off axis ticks and labels\n",
    "    plt.tight_layout(pad=0)  # Remove padding around the image\n",
    "    plt.imshow(pixels)  # For color images\n",
    "    plt.show()\n",
    " "
   ]
  },
  {
   "cell_type": "code",
   "execution_count": 37,
   "metadata": {},
   "outputs": [
    {
     "data": {
      "image/png": "[encoded data removed]",
      "text/plain": [
       "<Figure size 640x480 with 1 Axes>"
      ]
     },
     "metadata": {},
     "output_type": "display_data"
    }
   ],
   "source": [
    "flag = np.zeros((3, 4, 4), dtype=int)\n",
    "# flag[:, 0] = [0, 255, 0, 255]\n",
    "# flag[:, 1] = [255, 255, 255, 255]\n",
    "# flag[:, 2] = [255, 0, 0, 255]\n",
    "flag[0, :] = [0, 0, 0, 255]\n",
    "flag[1, :] = [255, 0, 0, 255]\n",
    "flag[2, :] = [255, 255, 0, 255]\n",
    "\n",
    "display(flag)\n"
   ]
  }
 ],
 "metadata": {
  "kernelspec": {
   "display_name": ".venv (3.13.4)",
   "language": "python",
   "name": "python3"
  },
  "language_info": {
   "codemirror_mode": {
    "name": "ipython",
    "version": 3
   },
   "file_extension": ".py",
   "mimetype": "text/x-python",
   "name": "python",
   "nbconvert_exporter": "python",
   "pygments_lexer": "ipython3",
   "version": "3.13.4"
  },
  "orig_nbformat": 4
 },
 "nbformat": 4,
 "nbformat_minor": 2
}
